{
  "nbformat": 4,
  "nbformat_minor": 0,
  "metadata": {
    "colab": {
      "provenance": []
    },
    "kernelspec": {
      "name": "python3",
      "display_name": "Python 3"
    },
    "language_info": {
      "name": "python"
    }
  },
  "cells": [
    {
      "cell_type": "code",
      "execution_count": null,
      "metadata": {
        "id": "4h4OLAKn11_0"
      },
      "outputs": [],
      "source": []
    },
    {
      "cell_type": "markdown",
      "source": [
        "#assignemt 1\n",
        "Question 1 : Explain the main components of client-server architecture and their functions.\n",
        "\n",
        "   Ans 1: Client and Server are the main components.\n",
        "  - Client can be a software using which user can interact withit or any software capable of initiating a request.\n",
        "  - Server can be any machine or a process running on a machine which is capable of accepting request, process them and send response.\n",
        "\n",
        "\n",
        "Question 2 : Discuss the various career paths available after completing a web development course.\n",
        "\n",
        " Ans 2:\n",
        " - \"Front End developer\" which focus on user interface and visual aspects.\n",
        " - \"Back End Developer\" which can manage servers side logics, database and application integration.\n",
        " - \"Full Stack Developer\" skilled in Front End and Back End development.\n",
        " -\"Web Designers\" specialises in design and layout of website.\n",
        " -  \"Web Administrator\" It manage web servers and ensure website performance and security.\n",
        "\n",
        "Question 3 : Describe the role of a web browser's developer tools in web development\n",
        "\n",
        "   Ans 3: Web browser developer tools allows\n",
        "  -  inspection of HTML/CSS And also debussing of Javascripts\n",
        "  - Monitor network request and analyze performanace.\n",
        "\n",
        "Question 4. What are the advantages of using a Version Control System like Git in a development project ?\n",
        "\n",
        "Ans 4 : The advantages are as follows\n",
        "   - Track Changes to file overtime\n",
        "   - Enable collaboration amont multiple developers\n",
        "   -Provide features like branching, merging version history\n",
        "   - Ensure efficiant management of changes.\n",
        "\n",
        "\n",
        "\n",
        "Question 5 : Compare and contrast a text editor and an IDE, highlighting their key features and uses.\n",
        "\n",
        "Ans 5 :  Text Editor is a simple tool for writing codes Key fetures are like.\n",
        "\n",
        " - Find and replace provide extensive facilities for searching and replacing strings of text.\n",
        "- Line commands, also known as prefix commands or sequence commands.\n",
        "\n",
        "\"Whereas\"\n",
        "\n",
        "IDE an integrated development environment is a program that helps programmers write, test, and debug code key features are\n",
        "- Allows developers to step through code line-by-line, set breakpoints, and inspect variables to identify and fix errors.\n",
        "- Automatically suggests relevant code snippets or function names based on context, saving typing time"
      ],
      "metadata": {
        "id": "6T1h3qYZ13o6"
      }
    }
  ]
}